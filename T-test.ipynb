{
 "cells": [
  {
   "cell_type": "code",
   "execution_count": 2,
   "metadata": {
    "colab": {
     "base_uri": "https://localhost:8080/",
     "height": 88
    },
    "colab_type": "code",
    "executionInfo": {
     "elapsed": 2768,
     "status": "ok",
     "timestamp": 1592091123916,
     "user": {
      "displayName": "Shideh shams amiri",
      "photoUrl": "https://lh3.googleusercontent.com/a-/AOh14Gg3DNJ32UlmykkwkldJ__l1wLD2JwqQ2Crhdv1Nz2g=s64",
      "userId": "16790278196196513922"
     },
     "user_tz": 240
    },
    "id": "LX7Zw_TIOS09",
    "outputId": "fede6a06-5818-40ce-cec1-8f4d4bfa4b68"
   },
   "outputs": [],
   "source": [
    "import csv, sqlite3\n",
    "import datetime\n",
    "import random\n",
    "import time\n",
    "import pandas as pd\n",
    "#import sqlalchemy \n",
    "from scipy.spatial import distance\n",
    "import numpy as np"
   ]
  },
  {
   "cell_type": "markdown",
   "metadata": {},
   "source": [
    "## T_test"
   ]
  },
  {
   "cell_type": "markdown",
   "metadata": {},
   "source": [
    "We can use this test, if we observe two independent samples from the same or different population\n",
    "The test measures whether the average (expected) value differs significantly across samples. If we observe a large p-value, for example larger than 0.05 or 0.1, then we cannot reject the null hypothesis of identical average scores. If the p-value is smaller than the threshold, e.g. 1%, 5% or 10%, then we reject the null hypothesis of equal averages.\n"
   ]
  },
  {
   "cell_type": "code",
   "execution_count": 48,
   "metadata": {},
   "outputs": [],
   "source": [
    "LoanNN1= pd.read_csv(\"results/loan/Results_Loan_NN1_GTE.csv\")\n",
    "LoanNN2= pd.read_csv(\"results/loan/Results_Loan_NN2_GTE.csv\")\n",
    "avgLoanNN1=pd.read_csv(\"results/loan/LoanNN1_GTE_StdMean.csv\")\n",
    "avgLoanNN2=pd.read_csv(\"results/loan/LoanNN2_GTE_StdMean.csv\")\n"
   ]
  },
  {
   "cell_type": "markdown",
   "metadata": {},
   "source": [
    "$$H_0: \\mu_0 = \\mu_1$$     \n",
    "$$H_a: \\mu_0 \\ne \\mu_1$$\n"
   ]
  },
  {
   "cell_type": "code",
   "execution_count": 103,
   "metadata": {},
   "outputs": [],
   "source": [
    "from scipy import stats\n",
    "\n",
    "# we cannot reject the null\n",
    "\n",
    "distNN1_loan= avgLoanNN1[\"distance_mean\"]\n",
    "distNN1_loan= avgLoanNN2[\"distance_mean\"]\n",
    "\n"
   ]
  },
  {
   "cell_type": "code",
   "execution_count": 104,
   "metadata": {},
   "outputs": [
    {
     "data": {
      "text/plain": [
       "count    54.000000\n",
       "mean      0.527101\n",
       "std       0.156789\n",
       "min       0.199519\n",
       "25%       0.384462\n",
       "50%       0.541980\n",
       "75%       0.621274\n",
       "max       0.893769\n",
       "Name: distance_mean, dtype: float64"
      ]
     },
     "execution_count": 104,
     "metadata": {},
     "output_type": "execute_result"
    }
   ],
   "source": [
    "distNN1_loan.describe()"
   ]
  },
  {
   "cell_type": "code",
   "execution_count": 105,
   "metadata": {},
   "outputs": [
    {
     "data": {
      "text/plain": [
       "count    54.000000\n",
       "mean      0.527101\n",
       "std       0.156789\n",
       "min       0.199519\n",
       "25%       0.384462\n",
       "50%       0.541980\n",
       "75%       0.621274\n",
       "max       0.893769\n",
       "Name: distance_mean, dtype: float64"
      ]
     },
     "execution_count": 105,
     "metadata": {},
     "output_type": "execute_result"
    }
   ],
   "source": [
    "distNN1_loan.describe()"
   ]
  },
  {
   "cell_type": "code",
   "execution_count": 65,
   "metadata": {},
   "outputs": [
    {
     "data": {
      "text/plain": [
       "Ttest_indResult(statistic=-0.026080002543576473, pvalue=0.9792425628094291)"
      ]
     },
     "execution_count": 65,
     "metadata": {},
     "output_type": "execute_result"
    }
   ],
   "source": [
    "stats.ttest_ind(distNN1_loan,distNN2_loan)"
   ]
  },
  {
   "cell_type": "code",
   "execution_count": 36,
   "metadata": {},
   "outputs": [
    {
     "data": {
      "text/plain": [
       "Ttest_indResult(statistic=-5.352501583415088, pvalue=5.057181977607313e-07)"
      ]
     },
     "execution_count": 36,
     "metadata": {},
     "output_type": "execute_result"
    }
   ],
   "source": [
    "stats.ttest_ind(df_LoanNN2_0['x1'],df_LoanGTE['x1'])"
   ]
  },
  {
   "cell_type": "code",
   "execution_count": 92,
   "metadata": {},
   "outputs": [],
   "source": []
  },
  {
   "cell_type": "markdown",
   "metadata": {},
   "source": [
    "## Time"
   ]
  },
  {
   "cell_type": "code",
   "execution_count": 41,
   "metadata": {},
   "outputs": [],
   "source": [
    "time_NN2= pd.read_csv(\"results/time/Result_Time_NN2_GTE.csv\")\n",
    "time_NN1= pd.read_csv(\"results/time/Result_Time_NN1_GTE.csv\")"
   ]
  },
  {
   "cell_type": "code",
   "execution_count": 57,
   "metadata": {},
   "outputs": [
    {
     "data": {
      "text/plain": [
       "Ttest_indResult(statistic=0.8162177044709924, pvalue=0.4143853547251376)"
      ]
     },
     "execution_count": 57,
     "metadata": {},
     "output_type": "execute_result"
    }
   ],
   "source": [
    "## distance\n",
    "rvs22= time_NN2[\"distance_mean\"]\n",
    "rvs11= time_NN1[\"distance_mean\"]\n",
    "stats.ttest_ind(rvs11,rvs22)\n"
   ]
  },
  {
   "cell_type": "code",
   "execution_count": 59,
   "metadata": {},
   "outputs": [
    {
     "data": {
      "text/plain": [
       "count    10000.000000\n",
       "mean         1.702320\n",
       "std          0.853624\n",
       "min          0.539732\n",
       "25%          1.181653\n",
       "50%          1.580035\n",
       "75%          1.819869\n",
       "max          5.332931\n",
       "Name: distance_mean, dtype: float64"
      ]
     },
     "execution_count": 59,
     "metadata": {},
     "output_type": "execute_result"
    }
   ],
   "source": [
    "rvs22.describe()"
   ]
  },
  {
   "cell_type": "code",
   "execution_count": 60,
   "metadata": {},
   "outputs": [
    {
     "data": {
      "text/plain": [
       "count    10000.000000\n",
       "mean         1.712268\n",
       "std          0.869917\n",
       "min          0.558989\n",
       "25%          1.186982\n",
       "50%          1.529670\n",
       "75%          1.810346\n",
       "max          5.291888\n",
       "Name: distance_mean, dtype: float64"
      ]
     },
     "execution_count": 60,
     "metadata": {},
     "output_type": "execute_result"
    }
   ],
   "source": [
    "rvs11.describe()"
   ]
  },
  {
   "cell_type": "markdown",
   "metadata": {
    "colab": {},
    "colab_type": "code",
    "id": "5NVGZ3aGHT9t"
   },
   "source": [
    "## Normalilzed data                                           "
   ]
  },
  {
   "cell_type": "code",
   "execution_count": null,
   "metadata": {},
   "outputs": [],
   "source": [
    "comp_Loan50_NN1= Loan50NN1[[\"run\",\"instance\",\"first_largest\",\"second_largest\"]].merge(Loan50GTE[[\"instance\",\"first_largest\",\"second_largest\"]],how= 'left', left_on=\"instance\",right_on = \"instance\",\n",
    "                             suffixes= (\"-lime\", \"-GT\"))## loan"
   ]
  },
  {
   "cell_type": "code",
   "execution_count": 158,
   "metadata": {},
   "outputs": [],
   "source": [
    "Loan_NN1= pd.read_csv(\"results/loan/Results_Loan_NN1_GTE.csv\")\n",
    "Loan_NN2= pd.read_csv(\"results/loan/Results_Loan_NN2_GTE.csv\")"
   ]
  },
  {
   "cell_type": "code",
   "execution_count": 159,
   "metadata": {},
   "outputs": [],
   "source": [
    "c = Loan_NN1.copy()\n",
    "Loan_NN1_normalized['cosine_mean_normalized'] = Loan_NN1['cosine_mean']/2\n",
    "Loan_NN1_normalized['cosine_std_normalized'] = Loan_NN1['cosine_std']/2\n",
    "Loan_NN1_normalized['first_correct_percentage_normalized'] = Loan_NN1['first_correct_percentage']/100\n",
    "Loan_NN1_normalized['second_correct_percentage_normalized'] = Loan_NN1['second_correct_percentage']/100\n",
    "Loan_NN1_normalized['all_correct_percentage_normalized'] = Loan_NN1['all_correct_percentage']/100\n",
    "Loan_NN1_normalized['distance_std_normalized'] = (Loan_NN1_normalized['distance_std']-min(Loan_NN1_normalized['distance_std']))/(max(Loan_NN1_normalized['distance_std'])-min(Loan_NN1_normalized['distance_std']))"
   ]
  },
  {
   "cell_type": "code",
   "execution_count": 160,
   "metadata": {},
   "outputs": [],
   "source": [
    "Loan_NN2_normalized = Loan_NN2.copy()\n",
    "Loan_NN2_normalized['cosine_mean_normalized'] = Loan_NN2['cosine_mean']/2\n",
    "Loan_NN2_normalized['cosine_std_normalized'] = Loan_NN2['cosine_std']/2\n",
    "Loan_NN2_normalized['first_correct_percentage_normalized'] = Loan_NN2['first_correct_percentage']/100\n",
    "Loan_NN2_normalized['second_correct_percentage_normalized'] = Loan_NN2['second_correct_percentage']/100\n",
    "Loan_NN2_normalized['all_correct_percentage_normalized'] = Loan_NN2['all_correct_percentage']/100\n",
    "Loan_NN2_normalized['distance_std_normalized'] = (Loan_NN2_normalized['distance_std']-min(Loan_NN2_normalized['distance_std']))/(max(Loan_NN2_normalized['distance_std'])-min(Loan_NN2_normalized['distance_std']))"
   ]
  },
  {
   "cell_type": "markdown",
   "metadata": {},
   "source": [
    "## Loan Dist"
   ]
  },
  {
   "cell_type": "code",
   "execution_count": 125,
   "metadata": {
    "colab": {},
    "colab_type": "code",
    "id": "piGJp_0hfBd4"
   },
   "outputs": [
    {
     "data": {
      "text/plain": [
       "Ttest_indResult(statistic=-0.026080002543576473, pvalue=0.9792425628094291)"
      ]
     },
     "execution_count": 125,
     "metadata": {},
     "output_type": "execute_result"
    }
   ],
   "source": [
    "Loan_NN1_dist= Loan_NN1_normalized[\"distance_mean\"]\n",
    "Loan_NN2_dist= Loan_NN2_normalized[\"distance_mean\"]\n",
    "stats.ttest_ind(Loan_NN1_dist,Loan_NN2_dist)"
   ]
  },
  {
   "cell_type": "code",
   "execution_count": 126,
   "metadata": {},
   "outputs": [
    {
     "data": {
      "text/plain": [
       "count    54.000000\n",
       "mean      0.526319\n",
       "std       0.154999\n",
       "min       0.214684\n",
       "25%       0.393864\n",
       "50%       0.537953\n",
       "75%       0.619812\n",
       "max       0.899654\n",
       "Name: distance_mean, dtype: float64"
      ]
     },
     "execution_count": 126,
     "metadata": {},
     "output_type": "execute_result"
    }
   ],
   "source": [
    "Loan_NN1_dist.describe()"
   ]
  },
  {
   "cell_type": "code",
   "execution_count": 128,
   "metadata": {},
   "outputs": [
    {
     "data": {
      "text/plain": [
       "count    54.000000\n",
       "mean      0.527101\n",
       "std       0.156789\n",
       "min       0.199519\n",
       "25%       0.384462\n",
       "50%       0.541980\n",
       "75%       0.621274\n",
       "max       0.893769\n",
       "Name: distance_mean, dtype: float64"
      ]
     },
     "execution_count": 128,
     "metadata": {},
     "output_type": "execute_result"
    }
   ],
   "source": [
    "Loan_NN2_dist.describe()"
   ]
  },
  {
   "cell_type": "markdown",
   "metadata": {},
   "source": [
    "# TIME"
   ]
  },
  {
   "cell_type": "code",
   "execution_count": 3,
   "metadata": {},
   "outputs": [],
   "source": [
    "Time_NN1= pd.read_csv(\"results/time/Result_Time_NN1_GTE.csv\")\n",
    "Time_NN2= pd.read_csv(\"results/time/Result_Time_NN2_GTE.csv\")"
   ]
  },
  {
   "cell_type": "code",
   "execution_count": 296,
   "metadata": {},
   "outputs": [],
   "source": [
    "Time_NN1_normalized = Time_NN1.copy()\n",
    "Time_NN1_normalized['cosine_mean_normalized'] = Time_NN1['cosine_mean']/2\n",
    "Time_NN1_normalized['cosine_std_normalized'] = Time_NN1['cosine_std']/2\n",
    "\n",
    "Time_NN1_normalized['distance_mean_normalized'] = (Time_NN1['distance_mean']-min(Time_NN1['distance_mean']))/(max(Time_NN1['distance_mean'])-min(Time_NN1['distance_mean']))\n",
    "Time_NN1_normalized['distance_std_normalized'] = (Time_NN1['distance_std']-min(Time_NN1['distance_std']))/(max(Time_NN1['distance_std'])-min(Time_NN1['distance_std']))\n",
    "\n",
    "Time_NN1_normalized['first_correct_percentage_normalized'] = Time_NN1['first_correct%']/100\n",
    "Time_NN1_normalized['second_correct_percentage_normalized'] = Time_NN1['second_correct%']/100\n",
    "Time_NN1_normalized['all_correct_percentage_normalized'] = Time_NN1['all_correct%']/100\n",
    "\n",
    "Time_NN1_normalized['distance_std_normalized'] = (Time_NN1_normalized['distance_std']-min(Time_NN1_normalized['distance_std']))/(max(Time_NN1_normalized['distance_std'])-min(Time_NN1_normalized['distance_std']))"
   ]
  },
  {
   "cell_type": "code",
   "execution_count": 297,
   "metadata": {},
   "outputs": [],
   "source": [
    "Time_NN1_normalized.to_csv(\"results/time/Time_NN1_normalized.csv\")"
   ]
  },
  {
   "cell_type": "code",
   "execution_count": 153,
   "metadata": {},
   "outputs": [],
   "source": [
    "Time_NN2_normalized = Time_NN2.copy()\n",
    "Time_NN2_normalized['cosine_mean_normalized'] = Time_NN2['cosine_mean']/2\n",
    "Time_NN2_normalized['cosine_std_normalized'] = Time_NN2['cosine_std']/2\n",
    "\n",
    "Time_NN2_normalized['distance_mean_normalized'] = (Time_NN2['distance_mean']-min(Time_NN2['distance_mean']))/(max(Time_NN2['distance_mean'])-min(Time_NN2['distance_mean']))\n",
    "Time_NN2_normalized['distance_std_normalized'] = (Time_NN2['distance_std']-min(Time_NN2['distance_std']))/(max(Time_NN2['distance_std'])-min(Time_NN2['distance_std']))\n",
    "\n",
    "Time_NN2_normalized['first_correct_percentage_normalized'] = Time_NN2['first_correct%']/100\n",
    "Time_NN2_normalized['second_correct_percentage_normalized'] = Time_NN2['second_correct%']/100\n",
    "Time_NN2_normalized['all_correct_percentage_normalized'] = Time_NN2['all_correct%']/100\n",
    "Time_NN2_normalized['distance_std_normalized'] = (Time_NN2_normalized['distance_std']-min(Time_NN2_normalized['distance_std']))/(max(Time_NN2_normalized['distance_std'])-min(Time_NN2_normalized['distance_std']))"
   ]
  },
  {
   "cell_type": "code",
   "execution_count": 137,
   "metadata": {},
   "outputs": [
    {
     "data": {
      "text/html": [
       "<div>\n",
       "<style scoped>\n",
       "    .dataframe tbody tr th:only-of-type {\n",
       "        vertical-align: middle;\n",
       "    }\n",
       "\n",
       "    .dataframe tbody tr th {\n",
       "        vertical-align: top;\n",
       "    }\n",
       "\n",
       "    .dataframe thead th {\n",
       "        text-align: right;\n",
       "    }\n",
       "</style>\n",
       "<table border=\"1\" class=\"dataframe\">\n",
       "  <thead>\n",
       "    <tr style=\"text-align: right;\">\n",
       "      <th></th>\n",
       "      <th>instance</th>\n",
       "      <th>distance_mean</th>\n",
       "      <th>distance_std</th>\n",
       "      <th>cosine_mean</th>\n",
       "      <th>cosine_std</th>\n",
       "      <th>first_correct%</th>\n",
       "      <th>second_correct%</th>\n",
       "      <th>third_correct%</th>\n",
       "      <th>all_correct%</th>\n",
       "      <th>cosine_mean_normalized</th>\n",
       "      <th>cosine_std_normalized</th>\n",
       "      <th>distance_mean_normalized</th>\n",
       "      <th>distance_std_normalized</th>\n",
       "      <th>first_correct_percentage_normalized</th>\n",
       "      <th>second_correct_percentage_normalized</th>\n",
       "      <th>all_correct_percentage_normalized</th>\n",
       "    </tr>\n",
       "  </thead>\n",
       "  <tbody>\n",
       "    <tr>\n",
       "      <th>0</th>\n",
       "      <td>0</td>\n",
       "      <td>1.401886</td>\n",
       "      <td>0.018939</td>\n",
       "      <td>0.364634</td>\n",
       "      <td>0.158024</td>\n",
       "      <td>31</td>\n",
       "      <td>11</td>\n",
       "      <td>26</td>\n",
       "      <td>0</td>\n",
       "      <td>0.182317</td>\n",
       "      <td>0.079012</td>\n",
       "      <td>0.178093</td>\n",
       "      <td>0.300246</td>\n",
       "      <td>0.31</td>\n",
       "      <td>0.11</td>\n",
       "      <td>0.00</td>\n",
       "    </tr>\n",
       "    <tr>\n",
       "      <th>1</th>\n",
       "      <td>1</td>\n",
       "      <td>0.884915</td>\n",
       "      <td>0.034989</td>\n",
       "      <td>0.515007</td>\n",
       "      <td>0.127741</td>\n",
       "      <td>53</td>\n",
       "      <td>11</td>\n",
       "      <td>17</td>\n",
       "      <td>2</td>\n",
       "      <td>0.257504</td>\n",
       "      <td>0.063870</td>\n",
       "      <td>0.068864</td>\n",
       "      <td>0.716089</td>\n",
       "      <td>0.53</td>\n",
       "      <td>0.11</td>\n",
       "      <td>0.02</td>\n",
       "    </tr>\n",
       "    <tr>\n",
       "      <th>2</th>\n",
       "      <td>2</td>\n",
       "      <td>2.150411</td>\n",
       "      <td>0.029827</td>\n",
       "      <td>0.695450</td>\n",
       "      <td>0.068502</td>\n",
       "      <td>0</td>\n",
       "      <td>31</td>\n",
       "      <td>0</td>\n",
       "      <td>0</td>\n",
       "      <td>0.347725</td>\n",
       "      <td>0.034251</td>\n",
       "      <td>0.336247</td>\n",
       "      <td>0.582364</td>\n",
       "      <td>0.00</td>\n",
       "      <td>0.31</td>\n",
       "      <td>0.00</td>\n",
       "    </tr>\n",
       "    <tr>\n",
       "      <th>3</th>\n",
       "      <td>3</td>\n",
       "      <td>2.228234</td>\n",
       "      <td>0.022344</td>\n",
       "      <td>0.210126</td>\n",
       "      <td>0.012317</td>\n",
       "      <td>100</td>\n",
       "      <td>0</td>\n",
       "      <td>33</td>\n",
       "      <td>0</td>\n",
       "      <td>0.105063</td>\n",
       "      <td>0.006159</td>\n",
       "      <td>0.352690</td>\n",
       "      <td>0.388469</td>\n",
       "      <td>1.00</td>\n",
       "      <td>0.00</td>\n",
       "      <td>0.00</td>\n",
       "    </tr>\n",
       "    <tr>\n",
       "      <th>4</th>\n",
       "      <td>4</td>\n",
       "      <td>0.582680</td>\n",
       "      <td>0.022511</td>\n",
       "      <td>0.362460</td>\n",
       "      <td>0.037539</td>\n",
       "      <td>99</td>\n",
       "      <td>0</td>\n",
       "      <td>0</td>\n",
       "      <td>0</td>\n",
       "      <td>0.181230</td>\n",
       "      <td>0.018770</td>\n",
       "      <td>0.005005</td>\n",
       "      <td>0.392806</td>\n",
       "      <td>0.99</td>\n",
       "      <td>0.00</td>\n",
       "      <td>0.00</td>\n",
       "    </tr>\n",
       "    <tr>\n",
       "      <th>...</th>\n",
       "      <td>...</td>\n",
       "      <td>...</td>\n",
       "      <td>...</td>\n",
       "      <td>...</td>\n",
       "      <td>...</td>\n",
       "      <td>...</td>\n",
       "      <td>...</td>\n",
       "      <td>...</td>\n",
       "      <td>...</td>\n",
       "      <td>...</td>\n",
       "      <td>...</td>\n",
       "      <td>...</td>\n",
       "      <td>...</td>\n",
       "      <td>...</td>\n",
       "      <td>...</td>\n",
       "      <td>...</td>\n",
       "    </tr>\n",
       "    <tr>\n",
       "      <th>9995</th>\n",
       "      <td>9995</td>\n",
       "      <td>4.981208</td>\n",
       "      <td>0.026686</td>\n",
       "      <td>0.017392</td>\n",
       "      <td>0.003449</td>\n",
       "      <td>100</td>\n",
       "      <td>9</td>\n",
       "      <td>8</td>\n",
       "      <td>8</td>\n",
       "      <td>0.008696</td>\n",
       "      <td>0.001725</td>\n",
       "      <td>0.934357</td>\n",
       "      <td>0.500979</td>\n",
       "      <td>1.00</td>\n",
       "      <td>0.09</td>\n",
       "      <td>0.08</td>\n",
       "    </tr>\n",
       "    <tr>\n",
       "      <th>9996</th>\n",
       "      <td>9996</td>\n",
       "      <td>1.736061</td>\n",
       "      <td>0.033339</td>\n",
       "      <td>1.848757</td>\n",
       "      <td>0.074666</td>\n",
       "      <td>84</td>\n",
       "      <td>1</td>\n",
       "      <td>34</td>\n",
       "      <td>1</td>\n",
       "      <td>0.924379</td>\n",
       "      <td>0.037333</td>\n",
       "      <td>0.248700</td>\n",
       "      <td>0.673347</td>\n",
       "      <td>0.84</td>\n",
       "      <td>0.01</td>\n",
       "      <td>0.01</td>\n",
       "    </tr>\n",
       "    <tr>\n",
       "      <th>9997</th>\n",
       "      <td>9997</td>\n",
       "      <td>1.531842</td>\n",
       "      <td>0.024656</td>\n",
       "      <td>1.149759</td>\n",
       "      <td>0.094182</td>\n",
       "      <td>0</td>\n",
       "      <td>0</td>\n",
       "      <td>89</td>\n",
       "      <td>0</td>\n",
       "      <td>0.574880</td>\n",
       "      <td>0.047091</td>\n",
       "      <td>0.205551</td>\n",
       "      <td>0.448376</td>\n",
       "      <td>0.00</td>\n",
       "      <td>0.00</td>\n",
       "      <td>0.00</td>\n",
       "    </tr>\n",
       "    <tr>\n",
       "      <th>9998</th>\n",
       "      <td>9998</td>\n",
       "      <td>1.524127</td>\n",
       "      <td>0.011807</td>\n",
       "      <td>0.593534</td>\n",
       "      <td>0.042475</td>\n",
       "      <td>3</td>\n",
       "      <td>0</td>\n",
       "      <td>0</td>\n",
       "      <td>0</td>\n",
       "      <td>0.296767</td>\n",
       "      <td>0.021237</td>\n",
       "      <td>0.203921</td>\n",
       "      <td>0.115459</td>\n",
       "      <td>0.03</td>\n",
       "      <td>0.00</td>\n",
       "      <td>0.00</td>\n",
       "    </tr>\n",
       "    <tr>\n",
       "      <th>9999</th>\n",
       "      <td>9999</td>\n",
       "      <td>1.812184</td>\n",
       "      <td>0.020794</td>\n",
       "      <td>1.365379</td>\n",
       "      <td>0.044632</td>\n",
       "      <td>0</td>\n",
       "      <td>0</td>\n",
       "      <td>51</td>\n",
       "      <td>0</td>\n",
       "      <td>0.682690</td>\n",
       "      <td>0.022316</td>\n",
       "      <td>0.264784</td>\n",
       "      <td>0.348326</td>\n",
       "      <td>0.00</td>\n",
       "      <td>0.00</td>\n",
       "      <td>0.00</td>\n",
       "    </tr>\n",
       "  </tbody>\n",
       "</table>\n",
       "<p>10000 rows × 16 columns</p>\n",
       "</div>"
      ],
      "text/plain": [
       "      instance  distance_mean  distance_std  cosine_mean  cosine_std  \\\n",
       "0            0       1.401886      0.018939     0.364634    0.158024   \n",
       "1            1       0.884915      0.034989     0.515007    0.127741   \n",
       "2            2       2.150411      0.029827     0.695450    0.068502   \n",
       "3            3       2.228234      0.022344     0.210126    0.012317   \n",
       "4            4       0.582680      0.022511     0.362460    0.037539   \n",
       "...        ...            ...           ...          ...         ...   \n",
       "9995      9995       4.981208      0.026686     0.017392    0.003449   \n",
       "9996      9996       1.736061      0.033339     1.848757    0.074666   \n",
       "9997      9997       1.531842      0.024656     1.149759    0.094182   \n",
       "9998      9998       1.524127      0.011807     0.593534    0.042475   \n",
       "9999      9999       1.812184      0.020794     1.365379    0.044632   \n",
       "\n",
       "      first_correct%  second_correct%  third_correct%  all_correct%  \\\n",
       "0                 31               11              26             0   \n",
       "1                 53               11              17             2   \n",
       "2                  0               31               0             0   \n",
       "3                100                0              33             0   \n",
       "4                 99                0               0             0   \n",
       "...              ...              ...             ...           ...   \n",
       "9995             100                9               8             8   \n",
       "9996              84                1              34             1   \n",
       "9997               0                0              89             0   \n",
       "9998               3                0               0             0   \n",
       "9999               0                0              51             0   \n",
       "\n",
       "      cosine_mean_normalized  cosine_std_normalized  distance_mean_normalized  \\\n",
       "0                   0.182317               0.079012                  0.178093   \n",
       "1                   0.257504               0.063870                  0.068864   \n",
       "2                   0.347725               0.034251                  0.336247   \n",
       "3                   0.105063               0.006159                  0.352690   \n",
       "4                   0.181230               0.018770                  0.005005   \n",
       "...                      ...                    ...                       ...   \n",
       "9995                0.008696               0.001725                  0.934357   \n",
       "9996                0.924379               0.037333                  0.248700   \n",
       "9997                0.574880               0.047091                  0.205551   \n",
       "9998                0.296767               0.021237                  0.203921   \n",
       "9999                0.682690               0.022316                  0.264784   \n",
       "\n",
       "      distance_std_normalized  first_correct_percentage_normalized  \\\n",
       "0                    0.300246                                 0.31   \n",
       "1                    0.716089                                 0.53   \n",
       "2                    0.582364                                 0.00   \n",
       "3                    0.388469                                 1.00   \n",
       "4                    0.392806                                 0.99   \n",
       "...                       ...                                  ...   \n",
       "9995                 0.500979                                 1.00   \n",
       "9996                 0.673347                                 0.84   \n",
       "9997                 0.448376                                 0.00   \n",
       "9998                 0.115459                                 0.03   \n",
       "9999                 0.348326                                 0.00   \n",
       "\n",
       "      second_correct_percentage_normalized  all_correct_percentage_normalized  \n",
       "0                                     0.11                               0.00  \n",
       "1                                     0.11                               0.02  \n",
       "2                                     0.31                               0.00  \n",
       "3                                     0.00                               0.00  \n",
       "4                                     0.00                               0.00  \n",
       "...                                    ...                                ...  \n",
       "9995                                  0.09                               0.08  \n",
       "9996                                  0.01                               0.01  \n",
       "9997                                  0.00                               0.00  \n",
       "9998                                  0.00                               0.00  \n",
       "9999                                  0.00                               0.00  \n",
       "\n",
       "[10000 rows x 16 columns]"
      ]
     },
     "execution_count": 137,
     "metadata": {},
     "output_type": "execute_result"
    }
   ],
   "source": [
    "Time_NN1_normalized"
   ]
  },
  {
   "cell_type": "markdown",
   "metadata": {},
   "source": [
    "## dist"
   ]
  },
  {
   "cell_type": "code",
   "execution_count": 140,
   "metadata": {},
   "outputs": [
    {
     "data": {
      "text/plain": [
       "Ttest_indResult(statistic=0.4389185257390135, pvalue=0.66072531458267)"
      ]
     },
     "execution_count": 140,
     "metadata": {},
     "output_type": "execute_result"
    }
   ],
   "source": [
    "Time_NN1_dist= Time_NN1_normalized[\"distance_mean_normalized\"]\n",
    "Time_NN2_dist= Time_NN2_normalized[\"distance_mean_normalized\"]\n",
    "stats.ttest_ind(Time_NN1_dist,Time_NN2_dist)"
   ]
  },
  {
   "cell_type": "code",
   "execution_count": 141,
   "metadata": {},
   "outputs": [
    {
     "data": {
      "text/plain": [
       "count    10000.000000\n",
       "mean         0.243673\n",
       "std          0.183802\n",
       "min          0.000000\n",
       "25%          0.132687\n",
       "50%          0.205092\n",
       "75%          0.264395\n",
       "max          1.000000\n",
       "Name: distance_mean_normalized, dtype: float64"
      ]
     },
     "execution_count": 141,
     "metadata": {},
     "output_type": "execute_result"
    }
   ],
   "source": [
    "Time_NN1_dist.describe()"
   ]
  },
  {
   "cell_type": "code",
   "execution_count": 142,
   "metadata": {},
   "outputs": [
    {
     "data": {
      "text/plain": [
       "count    10000.000000\n",
       "mean         0.242550\n",
       "std          0.178091\n",
       "min          0.000000\n",
       "25%          0.133923\n",
       "50%          0.217037\n",
       "75%          0.267074\n",
       "max          1.000000\n",
       "Name: distance_mean_normalized, dtype: float64"
      ]
     },
     "execution_count": 142,
     "metadata": {},
     "output_type": "execute_result"
    }
   ],
   "source": [
    "Time_NN2_dist.describe()"
   ]
  },
  {
   "cell_type": "code",
   "execution_count": 147,
   "metadata": {},
   "outputs": [],
   "source": [
    "data_loan= {\"average_stdDist_NN1\": [Loan_NN1_normalized[\"distance_std_normalized\"].mean()],\n",
    "   \"average_stdDist_NN2\": [Loan_NN2_normalized[\"distance_std_normalized\"].mean()],\n",
    "\"average_stdcos_N1\": [Loan_NN1_normalized[\"cosine_std_normalized\"].mean()],\n",
    "\"average_stdcos_N2\":[ Loan_NN2_normalized[\"cosine_std_normalized\"].mean() ]}\n",
    "data\n",
    "data_loanstd= pd.DataFrame.from_dict(data_loan)"
   ]
  },
  {
   "cell_type": "code",
   "execution_count": 148,
   "metadata": {},
   "outputs": [
    {
     "data": {
      "text/html": [
       "<div>\n",
       "<style scoped>\n",
       "    .dataframe tbody tr th:only-of-type {\n",
       "        vertical-align: middle;\n",
       "    }\n",
       "\n",
       "    .dataframe tbody tr th {\n",
       "        vertical-align: top;\n",
       "    }\n",
       "\n",
       "    .dataframe thead th {\n",
       "        text-align: right;\n",
       "    }\n",
       "</style>\n",
       "<table border=\"1\" class=\"dataframe\">\n",
       "  <thead>\n",
       "    <tr style=\"text-align: right;\">\n",
       "      <th></th>\n",
       "      <th>average_stdDist_NN1</th>\n",
       "      <th>average_stdDist_NN2</th>\n",
       "      <th>average_stdcos_N1</th>\n",
       "      <th>average_stdcos_N2</th>\n",
       "    </tr>\n",
       "  </thead>\n",
       "  <tbody>\n",
       "    <tr>\n",
       "      <th>0</th>\n",
       "      <td>0.503533</td>\n",
       "      <td>0.543908</td>\n",
       "      <td>0.134549</td>\n",
       "      <td>0.135943</td>\n",
       "    </tr>\n",
       "  </tbody>\n",
       "</table>\n",
       "</div>"
      ],
      "text/plain": [
       "   average_stdDist_NN1  average_stdDist_NN2  average_stdcos_N1  \\\n",
       "0             0.503533             0.543908           0.134549   \n",
       "\n",
       "   average_stdcos_N2  \n",
       "0           0.135943  "
      ]
     },
     "execution_count": 148,
     "metadata": {},
     "output_type": "execute_result"
    }
   ],
   "source": [
    "data_loanstd"
   ]
  },
  {
   "cell_type": "code",
   "execution_count": 149,
   "metadata": {},
   "outputs": [],
   "source": [
    "data_time= {\"average_stdDist_NN1\": [Time_NN1_normalized[\"distance_std_normalized\"].mean()],\n",
    "   \"average_stdDist_NN2\": [Time_NN2_normalized[\"distance_std_normalized\"].mean()],\n",
    "\"average_stdcos_N1\": [Time_NN1_normalized[\"cosine_std_normalized\"].mean()],\n",
    "\"average_stdcos_N2\":[ Time_NN2_normalized[\"cosine_std_normalized\"].mean() ]}\n",
    "data\n",
    "data_timestd= pd.DataFrame.from_dict(data_time)"
   ]
  },
  {
   "cell_type": "code",
   "execution_count": 150,
   "metadata": {},
   "outputs": [],
   "source": [
    "pd.concat([data_loanstd,data_timestd], axis = 1).to_csv(\"std_average2.csv\")"
   ]
  },
  {
   "cell_type": "code",
   "execution_count": null,
   "metadata": {},
   "outputs": [],
   "source": []
  },
  {
   "cell_type": "code",
   "execution_count": null,
   "metadata": {},
   "outputs": [],
   "source": []
  },
  {
   "cell_type": "code",
   "execution_count": null,
   "metadata": {},
   "outputs": [],
   "source": []
  },
  {
   "cell_type": "code",
   "execution_count": null,
   "metadata": {},
   "outputs": [],
   "source": []
  },
  {
   "cell_type": "code",
   "execution_count": null,
   "metadata": {},
   "outputs": [],
   "source": []
  },
  {
   "cell_type": "code",
   "execution_count": null,
   "metadata": {},
   "outputs": [],
   "source": []
  },
  {
   "cell_type": "code",
   "execution_count": null,
   "metadata": {},
   "outputs": [],
   "source": []
  },
  {
   "cell_type": "code",
   "execution_count": null,
   "metadata": {},
   "outputs": [],
   "source": []
  },
  {
   "cell_type": "code",
   "execution_count": null,
   "metadata": {},
   "outputs": [],
   "source": []
  },
  {
   "cell_type": "code",
   "execution_count": null,
   "metadata": {},
   "outputs": [],
   "source": []
  }
 ],
 "metadata": {
  "colab": {
   "collapsed_sections": [],
   "name": "Amazon Award.ipynb",
   "provenance": []
  },
  "kernelspec": {
   "display_name": "Python 3",
   "language": "python",
   "name": "python3"
  },
  "language_info": {
   "codemirror_mode": {
    "name": "ipython",
    "version": 3
   },
   "file_extension": ".py",
   "mimetype": "text/x-python",
   "name": "python",
   "nbconvert_exporter": "python",
   "pygments_lexer": "ipython3",
   "version": "3.6.12"
  }
 },
 "nbformat": 4,
 "nbformat_minor": 4
}
